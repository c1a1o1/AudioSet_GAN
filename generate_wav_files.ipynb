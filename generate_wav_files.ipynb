{
 "cells": [
  {
   "cell_type": "code",
   "execution_count": 1,
   "metadata": {
    "collapsed": true
   },
   "outputs": [],
   "source": [
    "# Make sure to install youtube-dl (go to website) and ffmpeg (brew install ffmpeg)\n",
    "import csv, sys\n",
    "import os\n",
    "import wave\n",
    "import contextlib\n",
    "import pandas as pd"
   ]
  },
  {
   "cell_type": "code",
   "execution_count": 11,
   "metadata": {},
   "outputs": [
    {
     "name": "stderr",
     "output_type": "stream",
     "text": [
      "/Library/Frameworks/Python.framework/Versions/3.5/lib/python3.5/site-packages/IPython/core/interactiveshell.py:2698: DtypeWarning: Columns (1,2,13,14) have mixed types. Specify dtype option on import or set low_memory=False.\n",
      "  interactivity=interactivity, compiler=compiler, result=result)\n"
     ]
    }
   ],
   "source": [
    "# Download unbalanced_train_segments.csv, and replace directory with yours.\n",
    "filename = 'Data/unbalanced_train_segments.csv'\n",
    "path = 'Data/unbalanced_train_wav/'\n",
    "project_path = '/Users/mingukim/Documents/cs281_fp/AudioSet_GAN/'\n",
    "error_path = 'Data/unbalanced_train_wav/error_wav/'\n",
    "unbal_train = pd.read_csv(filename, names=['tag', 'start', 'end', 'label1', 'label2', 'label3', 'label4', 'label5', 'label6', 'label7', 'label8', 'label9', 'label10','label11','label12'])"
   ]
  },
  {
   "cell_type": "code",
   "execution_count": 3,
   "metadata": {
    "collapsed": true
   },
   "outputs": [],
   "source": [
    "# We want to only select human voice related sound files- check indices file to see how many labels you want to include.\n",
    "indices = pd.read_csv('Data/class_labels_indices.csv')\n",
    "acc_cl = indices['mid'][:6]\n",
    "acc_cl = [' \"' + x for x in acc_cl]"
   ]
  },
  {
   "cell_type": "code",
   "execution_count": 9,
   "metadata": {
    "collapsed": true
   },
   "outputs": [],
   "source": [
    "''' We'd like to thank and acknowledge these functions provided by DantesLegacy as an example of how to \n",
    "    extract Youtube videos (https://github.com/DantesLegacy/TensorFlow_AudioSet_Example). \n",
    "'''\n",
    "def youtube_download_os_call(id, start_time, idx):\n",
    "    ret = os.system('ffmpeg -n -ss ' + start_time +\n",
    "              ' -i $(youtube-dl -i -w --extract-audio '\n",
    "              '--audio-format wav --audio-quality 0 '\n",
    "              '--get-url https://www.youtube.com/watch?v=' + id + ')'\n",
    "              ' -t 10 ' + path + idx + '_' + id + '.wav')\n",
    "\n",
    "    return ret\n",
    "\n",
    "def get_wav_file_length(path, idx, id):\n",
    "    sample = project_path + path + idx + '_' + id + '.wav'\n",
    "    with contextlib.closing(wave.open(sample, 'r')) as f:\n",
    "        frames = f.getnframes()\n",
    "        rate = f.getframerate()\n",
    "        length = frames / float(rate)\n",
    "        print(length)\n",
    "\n",
    "    return length\n",
    "\n",
    "def create_error_file(id, idx):\n",
    "    with open(error_path + idx + '_' + id + '_ERROR.wav', 'a'):\n",
    "        os.utime(error_path + idx + '_' + id + '_ERROR.wav', None)\n",
    "\n",
    "def youtube_downloader(id, start_time, idx):\n",
    "    ret = youtube_download_os_call(id, start_time, idx)\n",
    "\n",
    "    print('ffmpeg -n -ss ' + start_time +\n",
    "              ' -i $(youtube-dl -i -w --extract-audio '\n",
    "              '--audio-format wav --audio-quality 0 '\n",
    "              '--get-url https://www.youtube.com/watch?v=' + id + ')'\n",
    "              ' -t 10 AudioSet/balanced_train/' + idx + '_' + id + '.wav')\n",
    "    return ret"
   ]
  },
  {
   "cell_type": "code",
   "execution_count": 12,
   "metadata": {},
   "outputs": [
    {
     "name": "stdout",
     "output_type": "stream",
     "text": [
      "ffmpeg -n -ss  30.000 -i $(youtube-dl -i -w --extract-audio --audio-format wav --audio-quality 0 --get-url https://www.youtube.com/watch?v=---EDNidJUA) -t 10 AudioSet/balanced_train/6_---EDNidJUA.wav\n",
      "ffmpeg -n -ss  30.000 -i $(youtube-dl -i -w --extract-audio --audio-format wav --audio-quality 0 --get-url https://www.youtube.com/watch?v=--1l6WGE7AU) -t 10 AudioSet/balanced_train/41_--1l6WGE7AU.wav\n",
      "ffmpeg -n -ss  10.000 -i $(youtube-dl -i -w --extract-audio --audio-format wav --audio-quality 0 --get-url https://www.youtube.com/watch?v=--2U9LPjlpk) -t 10 AudioSet/balanced_train/55_--2U9LPjlpk.wav\n",
      "ffmpeg -n -ss  520.000 -i $(youtube-dl -i -w --extract-audio --audio-format wav --audio-quality 0 --get-url https://www.youtube.com/watch?v=--3SMQlk4Y8) -t 10 AudioSet/balanced_train/74_--3SMQlk4Y8.wav\n",
      "ffmpeg -n -ss  30.000 -i $(youtube-dl -i -w --extract-audio --audio-format wav --audio-quality 0 --get-url https://www.youtube.com/watch?v=--42a6bv16w) -t 10 AudioSet/balanced_train/82_--42a6bv16w.wav\n",
      "ffmpeg -n -ss  30.000 -i $(youtube-dl -i -w --extract-audio --audio-format wav --audio-quality 0 --get-url https://www.youtube.com/watch?v=--51d28O-tM) -t 10 AudioSet/balanced_train/101_--51d28O-tM.wav\n",
      "ffmpeg -n -ss  30.000 -i $(youtube-dl -i -w --extract-audio --audio-format wav --audio-quality 0 --get-url https://www.youtube.com/watch?v=--6-d5gd2W8) -t 10 AudioSet/balanced_train/113_--6-d5gd2W8.wav\n",
      "ffmpeg -n -ss  30.000 -i $(youtube-dl -i -w --extract-audio --audio-format wav --audio-quality 0 --get-url https://www.youtube.com/watch?v=--6STvL0FXE) -t 10 AudioSet/balanced_train/121_--6STvL0FXE.wav\n",
      "ffmpeg -n -ss  200.000 -i $(youtube-dl -i -w --extract-audio --audio-format wav --audio-quality 0 --get-url https://www.youtube.com/watch?v=--6m4sccrsw) -t 10 AudioSet/balanced_train/125_--6m4sccrsw.wav\n",
      "ffmpeg -n -ss  30.000 -i $(youtube-dl -i -w --extract-audio --audio-format wav --audio-quality 0 --get-url https://www.youtube.com/watch?v=--7UmfOkRbM) -t 10 AudioSet/balanced_train/136_--7UmfOkRbM.wav\n",
      "ffmpeg -n -ss  360.000 -i $(youtube-dl -i -w --extract-audio --audio-format wav --audio-quality 0 --get-url https://www.youtube.com/watch?v=--7itbX1F1U) -t 10 AudioSet/balanced_train/138_--7itbX1F1U.wav\n",
      "ffmpeg -n -ss  30.000 -i $(youtube-dl -i -w --extract-audio --audio-format wav --audio-quality 0 --get-url https://www.youtube.com/watch?v=--9O4XZOge4) -t 10 AudioSet/balanced_train/160_--9O4XZOge4.wav\n",
      "ffmpeg -n -ss  30.000 -i $(youtube-dl -i -w --extract-audio --audio-format wav --audio-quality 0 --get-url https://www.youtube.com/watch?v=--BIlxKVCYk) -t 10 AudioSet/balanced_train/189_--BIlxKVCYk.wav\n",
      "ffmpeg -n -ss  30.000 -i $(youtube-dl -i -w --extract-audio --audio-format wav --audio-quality 0 --get-url https://www.youtube.com/watch?v=--EQQVMYe50) -t 10 AudioSet/balanced_train/238_--EQQVMYe50.wav\n",
      "ffmpeg -n -ss  30.000 -i $(youtube-dl -i -w --extract-audio --audio-format wav --audio-quality 0 --get-url https://www.youtube.com/watch?v=--FobqZvbgI) -t 10 AudioSet/balanced_train/264_--FobqZvbgI.wav\n",
      "ffmpeg -n -ss  30.000 -i $(youtube-dl -i -w --extract-audio --audio-format wav --audio-quality 0 --get-url https://www.youtube.com/watch?v=--Gy6Dsgf1A) -t 10 AudioSet/balanced_train/287_--Gy6Dsgf1A.wav\n",
      "ffmpeg -n -ss  30.000 -i $(youtube-dl -i -w --extract-audio --audio-format wav --audio-quality 0 --get-url https://www.youtube.com/watch?v=--HuBNHXu9I) -t 10 AudioSet/balanced_train/300_--HuBNHXu9I.wav\n",
      "ffmpeg -n -ss  10.000 -i $(youtube-dl -i -w --extract-audio --audio-format wav --audio-quality 0 --get-url https://www.youtube.com/watch?v=--IHiTgsaIk) -t 10 AudioSet/balanced_train/308_--IHiTgsaIk.wav\n",
      "ffmpeg -n -ss  30.000 -i $(youtube-dl -i -w --extract-audio --audio-format wav --audio-quality 0 --get-url https://www.youtube.com/watch?v=--K91QrLI4g) -t 10 AudioSet/balanced_train/346_--K91QrLI4g.wav\n",
      "ffmpeg -n -ss  30.000 -i $(youtube-dl -i -w --extract-audio --audio-format wav --audio-quality 0 --get-url https://www.youtube.com/watch?v=--KR9VeFjSs) -t 10 AudioSet/balanced_train/354_--KR9VeFjSs.wav\n",
      "ffmpeg -n -ss  60.000 -i $(youtube-dl -i -w --extract-audio --audio-format wav --audio-quality 0 --get-url https://www.youtube.com/watch?v=--KxycEjQtU) -t 10 AudioSet/balanced_train/367_--KxycEjQtU.wav\n",
      "ffmpeg -n -ss  30.000 -i $(youtube-dl -i -w --extract-audio --audio-format wav --audio-quality 0 --get-url https://www.youtube.com/watch?v=--L9NbP4a3s) -t 10 AudioSet/balanced_train/373_--L9NbP4a3s.wav\n",
      "ffmpeg -n -ss  460.000 -i $(youtube-dl -i -w --extract-audio --audio-format wav --audio-quality 0 --get-url https://www.youtube.com/watch?v=--LM_U_fw-M) -t 10 AudioSet/balanced_train/376_--LM_U_fw-M.wav\n",
      "ffmpeg -n -ss  10.000 -i $(youtube-dl -i -w --extract-audio --audio-format wav --audio-quality 0 --get-url https://www.youtube.com/watch?v=--MkW8yVGWw) -t 10 AudioSet/balanced_train/389_--MkW8yVGWw.wav\n",
      "ffmpeg -n -ss  30.000 -i $(youtube-dl -i -w --extract-audio --audio-format wav --audio-quality 0 --get-url https://www.youtube.com/watch?v=--Nu0Zp5uSA) -t 10 AudioSet/balanced_train/407_--Nu0Zp5uSA.wav\n",
      "ffmpeg -n -ss  30.000 -i $(youtube-dl -i -w --extract-audio --audio-format wav --audio-quality 0 --get-url https://www.youtube.com/watch?v=--OIMkPHZ_s) -t 10 AudioSet/balanced_train/412_--OIMkPHZ_s.wav\n",
      "ffmpeg -n -ss  30.000 -i $(youtube-dl -i -w --extract-audio --audio-format wav --audio-quality 0 --get-url https://www.youtube.com/watch?v=--OJNjnbHaA) -t 10 AudioSet/balanced_train/413_--OJNjnbHaA.wav\n",
      "ffmpeg -n -ss  50.000 -i $(youtube-dl -i -w --extract-audio --audio-format wav --audio-quality 0 --get-url https://www.youtube.com/watch?v=--OsVDTBGjs) -t 10 AudioSet/balanced_train/426_--OsVDTBGjs.wav\n",
      "ffmpeg -n -ss  320.000 -i $(youtube-dl -i -w --extract-audio --audio-format wav --audio-quality 0 --get-url https://www.youtube.com/watch?v=--RuMpNXawk) -t 10 AudioSet/balanced_train/480_--RuMpNXawk.wav\n",
      "ffmpeg -n -ss  0.000 -i $(youtube-dl -i -w --extract-audio --audio-format wav --audio-quality 0 --get-url https://www.youtube.com/watch?v=--RyKAReM6M) -t 10 AudioSet/balanced_train/482_--RyKAReM6M.wav\n",
      "ffmpeg -n -ss  50.000 -i $(youtube-dl -i -w --extract-audio --audio-format wav --audio-quality 0 --get-url https://www.youtube.com/watch?v=--S5Qr9ABZU) -t 10 AudioSet/balanced_train/484_--S5Qr9ABZU.wav\n",
      "ffmpeg -n -ss  30.000 -i $(youtube-dl -i -w --extract-audio --audio-format wav --audio-quality 0 --get-url https://www.youtube.com/watch?v=--U21ZpqhcI) -t 10 AudioSet/balanced_train/516_--U21ZpqhcI.wav\n",
      "ffmpeg -n -ss  190.000 -i $(youtube-dl -i -w --extract-audio --audio-format wav --audio-quality 0 --get-url https://www.youtube.com/watch?v=--VeqKi0cAg) -t 10 AudioSet/balanced_train/533_--VeqKi0cAg.wav\n",
      "ffmpeg -n -ss  10.000 -i $(youtube-dl -i -w --extract-audio --audio-format wav --audio-quality 0 --get-url https://www.youtube.com/watch?v=--Xj0UxIiOE) -t 10 AudioSet/balanced_train/560_--Xj0UxIiOE.wav\n",
      "ffmpeg -n -ss  30.000 -i $(youtube-dl -i -w --extract-audio --audio-format wav --audio-quality 0 --get-url https://www.youtube.com/watch?v=--Y72SFAlek) -t 10 AudioSet/balanced_train/568_--Y72SFAlek.wav\n",
      "ffmpeg -n -ss  300.000 -i $(youtube-dl -i -w --extract-audio --audio-format wav --audio-quality 0 --get-url https://www.youtube.com/watch?v=--YMMX6AKUc) -t 10 AudioSet/balanced_train/572_--YMMX6AKUc.wav\n",
      "ffmpeg -n -ss  30.000 -i $(youtube-dl -i -w --extract-audio --audio-format wav --audio-quality 0 --get-url https://www.youtube.com/watch?v=--ZkrQ3RblM) -t 10 AudioSet/balanced_train/591_--ZkrQ3RblM.wav\n",
      "ffmpeg -n -ss  0.000 -i $(youtube-dl -i -w --extract-audio --audio-format wav --audio-quality 0 --get-url https://www.youtube.com/watch?v=--aLzScChzY) -t 10 AudioSet/balanced_train/614_--aLzScChzY.wav\n",
      "ffmpeg -n -ss  20.000 -i $(youtube-dl -i -w --extract-audio --audio-format wav --audio-quality 0 --get-url https://www.youtube.com/watch?v=--bFtX_xZ8w) -t 10 AudioSet/balanced_train/627_--bFtX_xZ8w.wav\n",
      "ffmpeg -n -ss  30.000 -i $(youtube-dl -i -w --extract-audio --audio-format wav --audio-quality 0 --get-url https://www.youtube.com/watch?v=--bMrwySyI8) -t 10 AudioSet/balanced_train/630_--bMrwySyI8.wav\n",
      "ffmpeg -n -ss  50.000 -i $(youtube-dl -i -w --extract-audio --audio-format wav --audio-quality 0 --get-url https://www.youtube.com/watch?v=--bdhWF_Gbc) -t 10 AudioSet/balanced_train/634_--bdhWF_Gbc.wav\n"
     ]
    },
    {
     "name": "stdout",
     "output_type": "stream",
     "text": [
      "ffmpeg -n -ss  50.000 -i $(youtube-dl -i -w --extract-audio --audio-format wav --audio-quality 0 --get-url https://www.youtube.com/watch?v=--dlUg_HtxE) -t 10 AudioSet/balanced_train/664_--dlUg_HtxE.wav\n",
      "ffmpeg -n -ss  30.000 -i $(youtube-dl -i -w --extract-audio --audio-format wav --audio-quality 0 --get-url https://www.youtube.com/watch?v=--f4Zx92FcY) -t 10 AudioSet/balanced_train/682_--f4Zx92FcY.wav\n",
      "ffmpeg -n -ss  450.000 -i $(youtube-dl -i -w --extract-audio --audio-format wav --audio-quality 0 --get-url https://www.youtube.com/watch?v=--gdBqOKKV0) -t 10 AudioSet/balanced_train/705_--gdBqOKKV0.wav\n",
      "ffmpeg -n -ss  30.000 -i $(youtube-dl -i -w --extract-audio --audio-format wav --audio-quality 0 --get-url https://www.youtube.com/watch?v=--jS5BsdVew) -t 10 AudioSet/balanced_train/743_--jS5BsdVew.wav\n",
      "ffmpeg -n -ss  110.000 -i $(youtube-dl -i -w --extract-audio --audio-format wav --audio-quality 0 --get-url https://www.youtube.com/watch?v=--l4G3BkkOE) -t 10 AudioSet/balanced_train/775_--l4G3BkkOE.wav\n",
      "ffmpeg -n -ss  0.000 -i $(youtube-dl -i -w --extract-audio --audio-format wav --audio-quality 0 --get-url https://www.youtube.com/watch?v=--loQn6BCNI) -t 10 AudioSet/balanced_train/794_--loQn6BCNI.wav\n",
      "ffmpeg -n -ss  21.000 -i $(youtube-dl -i -w --extract-audio --audio-format wav --audio-quality 0 --get-url https://www.youtube.com/watch?v=--m42cD6P7M) -t 10 AudioSet/balanced_train/798_--m42cD6P7M.wav\n",
      "ffmpeg -n -ss  30.000 -i $(youtube-dl -i -w --extract-audio --audio-format wav --audio-quality 0 --get-url https://www.youtube.com/watch?v=--m7EHeOceI) -t 10 AudioSet/balanced_train/799_--m7EHeOceI.wav\n",
      "ffmpeg -n -ss  30.000 -i $(youtube-dl -i -w --extract-audio --audio-format wav --audio-quality 0 --get-url https://www.youtube.com/watch?v=--qEmwsjbkw) -t 10 AudioSet/balanced_train/849_--qEmwsjbkw.wav\n"
     ]
    }
   ],
   "source": [
    "# Download .wav files. Some files may not download, because of videos that have been taken down.\n",
    "# N = number of videos considered, not final number of .wav files (which depends on number of errors)\n",
    "N = 50\n",
    "\n",
    "# Take only voice related videos\n",
    "voice_data = unbal_train.loc[unbal_train['label1'].isin(acc_cl)][:N]\n",
    "\n",
    "#Download the .wav files\n",
    "for index, clip in voice_data.iterrows():\n",
    "    ret = youtube_downloader(clip[0], str(clip[1]), str(index))\n",
    "    if ret != 0:\n",
    "        create_error_file(clip[0], str(index))"
   ]
  },
  {
   "cell_type": "code",
   "execution_count": null,
   "metadata": {
    "collapsed": true
   },
   "outputs": [],
   "source": []
  }
 ],
 "metadata": {
  "kernelspec": {
   "display_name": "Python 3",
   "language": "python",
   "name": "python3"
  },
  "language_info": {
   "codemirror_mode": {
    "name": "ipython",
    "version": 3
   },
   "file_extension": ".py",
   "mimetype": "text/x-python",
   "name": "python",
   "nbconvert_exporter": "python",
   "pygments_lexer": "ipython3",
   "version": "3.5.1"
  }
 },
 "nbformat": 4,
 "nbformat_minor": 2
}

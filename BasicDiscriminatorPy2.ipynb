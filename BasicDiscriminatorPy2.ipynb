{
 "cells": [
  {
   "cell_type": "code",
   "execution_count": 57,
   "metadata": {
    "collapsed": false
   },
   "outputs": [],
   "source": [
    "import tensorflow as tf\n",
    "import pandas as pd\n",
    "import numpy as np\n",
    "from keras.models import Sequential\n",
    "from keras.layers import Convolution1D, Conv1D, Dense, MaxPooling1D, Flatten, Dropout\n",
    "from keras.initializers import TruncatedNormal\n",
    "from matplotlib import pyplot as plt"
   ]
  },
  {
   "cell_type": "code",
   "execution_count": 7,
   "metadata": {
    "collapsed": false
   },
   "outputs": [],
   "source": [
    "feat_v = np.loadtxt(open(\"features_voice.csv\", \"rb\"), delimiter=\",\", skiprows=1)\n",
    "feat_nv = np.loadtxt(open(\"features_non_voice.csv\", \"rb\"), delimiter=\",\", skiprows=1)"
   ]
  },
  {
   "cell_type": "code",
   "execution_count": 8,
   "metadata": {
    "collapsed": false
   },
   "outputs": [
    {
     "name": "stdout",
     "output_type": "stream",
     "text": [
      "(4272, 17240)\n",
      "(4855, 17240)\n"
     ]
    }
   ],
   "source": [
    "print feat_nv.shape\n",
    "print feat_v.shape\n",
    "\n",
    "feat_v = np.concatenate((feat_v,np.ones((feat_v.shape[0],1))),axis=1)\n",
    "feat_nv = np.concatenate((feat_nv,np.zeros((feat_nv.shape[0],1))),axis=1)\n",
    "\n",
    "feat = np.concatenate((feat_v,feat_nv),axis=0)\n",
    "\n",
    "del feat_v\n",
    "del feat_nv"
   ]
  },
  {
   "cell_type": "code",
   "execution_count": 24,
   "metadata": {
    "collapsed": false
   },
   "outputs": [],
   "source": [
    "feat2=feat[:,:-1].reshape((-1,431,40))"
   ]
  },
  {
   "cell_type": "code",
   "execution_count": 25,
   "metadata": {
    "collapsed": false
   },
   "outputs": [
    {
     "data": {
      "text/plain": [
       "(9127, 431, 40)"
      ]
     },
     "execution_count": 25,
     "metadata": {},
     "output_type": "execute_result"
    }
   ],
   "source": [
    "feat2.shape"
   ]
  },
  {
   "cell_type": "code",
   "execution_count": 59,
   "metadata": {
    "collapsed": false
   },
   "outputs": [],
   "source": [
    "nb_input_series = 1\n",
    "nb_filter_1 = 16\n",
    "nb_filter_2 = 8\n",
    "filter_length_1 = 4\n",
    "filter_length_2 = 2\n",
    "strides = 1\n",
    "series_length = 431\n",
    "\n",
    "model = Sequential()\n",
    "#model.add(Dropout(0.1, input_shape=(series_length,40)))\n",
    "model.add(Conv1D(filters=nb_filter_1, kernel_size=filter_length_1, strides = strides, activation='relu', input_shape=(series_length, 40)))\n",
    "model.add(MaxPooling1D())     # Downsample the output of convolution by 2X.\n",
    "model.add(Conv1D(filters=nb_filter_2, kernel_size=filter_length_2, strides = strides, activation='relu'))\n",
    "model.add(MaxPooling1D())\n",
    "model.add(Flatten())\n",
    "model.add(Dense(1, activation='sigmoid'))\n",
    "\n",
    "\n",
    "model.compile(loss='binary_crossentropy', optimizer='adam', metrics=['accuracy'])"
   ]
  },
  {
   "cell_type": "code",
   "execution_count": 60,
   "metadata": {
    "collapsed": false
   },
   "outputs": [
    {
     "name": "stdout",
     "output_type": "stream",
     "text": [
      "Train on 8214 samples, validate on 913 samples\n",
      "Epoch 1/30\n",
      " - 11s - loss: 1.3924 - acc: 0.5638 - val_loss: 0.7246 - val_acc: 0.5915\n",
      "Epoch 2/30\n",
      " - 13s - loss: 0.6333 - acc: 0.6658 - val_loss: 0.6310 - val_acc: 0.6714\n",
      "Epoch 3/30\n",
      " - 11s - loss: 0.5797 - acc: 0.7036 - val_loss: 0.6462 - val_acc: 0.6988\n",
      "Epoch 4/30\n",
      " - 9s - loss: 0.5454 - acc: 0.7441 - val_loss: 0.5841 - val_acc: 0.7141\n",
      "Epoch 5/30\n",
      " - 11s - loss: 0.5156 - acc: 0.7614 - val_loss: 0.6020 - val_acc: 0.7306\n",
      "Epoch 6/30\n",
      " - 8s - loss: 0.4962 - acc: 0.7706 - val_loss: 0.5520 - val_acc: 0.7349\n",
      "Epoch 7/30\n",
      " - 8s - loss: 0.4797 - acc: 0.7770 - val_loss: 0.5840 - val_acc: 0.7393\n",
      "Epoch 8/30\n",
      " - 10s - loss: 0.4670 - acc: 0.7852 - val_loss: 0.6058 - val_acc: 0.7207\n",
      "Epoch 9/30\n",
      " - 9s - loss: 0.4566 - acc: 0.7893 - val_loss: 0.5629 - val_acc: 0.7426\n",
      "Epoch 10/30\n",
      " - 8s - loss: 0.4459 - acc: 0.7913 - val_loss: 0.6082 - val_acc: 0.7306\n",
      "Epoch 11/30\n",
      " - 12s - loss: 0.4388 - acc: 0.7981 - val_loss: 0.6402 - val_acc: 0.7481\n",
      "Epoch 12/30\n",
      " - 11s - loss: 0.4287 - acc: 0.8008 - val_loss: 0.6423 - val_acc: 0.7448\n",
      "Epoch 13/30\n",
      " - 8s - loss: 0.4129 - acc: 0.8128 - val_loss: 0.6287 - val_acc: 0.7459\n",
      "Epoch 14/30\n",
      " - 8s - loss: 0.4201 - acc: 0.8090 - val_loss: 0.6507 - val_acc: 0.7437\n",
      "Epoch 15/30\n",
      " - 9s - loss: 0.3997 - acc: 0.8202 - val_loss: 0.6656 - val_acc: 0.7327\n",
      "Epoch 16/30\n",
      " - 8s - loss: 0.3937 - acc: 0.8234 - val_loss: 0.6757 - val_acc: 0.7240\n",
      "Epoch 17/30\n",
      " - 8s - loss: 0.3892 - acc: 0.8218 - val_loss: 0.7245 - val_acc: 0.7481\n",
      "Epoch 18/30\n",
      " - 8s - loss: 0.3788 - acc: 0.8249 - val_loss: 0.6934 - val_acc: 0.7349\n",
      "Epoch 19/30\n",
      " - 8s - loss: 0.3723 - acc: 0.8324 - val_loss: 0.7932 - val_acc: 0.7382\n",
      "Epoch 20/30\n",
      " - 9s - loss: 0.3776 - acc: 0.8297 - val_loss: 0.7349 - val_acc: 0.7579\n",
      "Epoch 21/30\n",
      " - 9s - loss: 0.3648 - acc: 0.8383 - val_loss: 0.7590 - val_acc: 0.7536\n",
      "Epoch 22/30\n",
      " - 8s - loss: 0.3562 - acc: 0.8409 - val_loss: 0.7868 - val_acc: 0.7547\n",
      "Epoch 23/30\n",
      " - 8s - loss: 0.3573 - acc: 0.8384 - val_loss: 0.8509 - val_acc: 0.7229\n",
      "Epoch 24/30\n",
      " - 8s - loss: 0.3468 - acc: 0.8455 - val_loss: 0.8533 - val_acc: 0.7349\n",
      "Epoch 25/30\n",
      " - 8s - loss: 0.3442 - acc: 0.8501 - val_loss: 0.8440 - val_acc: 0.7525\n",
      "Epoch 26/30\n",
      " - 8s - loss: 0.3402 - acc: 0.8514 - val_loss: 0.9693 - val_acc: 0.7327\n",
      "Epoch 27/30\n",
      " - 8s - loss: 0.3467 - acc: 0.8447 - val_loss: 0.7820 - val_acc: 0.7492\n",
      "Epoch 28/30\n",
      " - 8s - loss: 0.3388 - acc: 0.8492 - val_loss: 0.8864 - val_acc: 0.7426\n",
      "Epoch 29/30\n",
      " - 8s - loss: 0.3321 - acc: 0.8534 - val_loss: 0.8971 - val_acc: 0.7503\n",
      "Epoch 30/30\n",
      " - 8s - loss: 0.3213 - acc: 0.8593 - val_loss: 0.8753 - val_acc: 0.7338\n"
     ]
    }
   ],
   "source": [
    "train_len = int(feat.shape[0]*0.9)\n",
    "hist=model.fit(verbose=2, batch_size=10,x=feat2, y=feat[:,-1].reshape(-1,1),shuffle=True,epochs=30,validation_split=0.1)"
   ]
  },
  {
   "cell_type": "code",
   "execution_count": 56,
   "metadata": {
    "collapsed": false
   },
   "outputs": [
    {
     "data": {
      "text/plain": [
       "{'acc': [0.771852933209628,\n",
       "  0.78646213583247282,\n",
       "  0.79060140960344816,\n",
       "  0.79814949855190254,\n",
       "  0.80484538326334254,\n",
       "  0.81020208990774156,\n",
       "  0.81701971796965522,\n",
       "  0.81994155874384678,\n",
       "  0.81957632903347988,\n",
       "  0.81860238231676818,\n",
       "  0.82761139013571605,\n",
       "  0.82566349713768084,\n",
       "  0.83625516969559111,\n",
       "  0.83528122226048884,\n",
       "  0.83795957609426952,\n",
       "  0.84392500047066044,\n",
       "  0.8419771071823664,\n",
       "  0.84453371850016756,\n",
       "  0.84976868232381531,\n",
       "  0.85390795499906358,\n",
       "  0.85232529269827528,\n",
       "  0.85634282293010866,\n",
       "  0.85634282386619331,\n",
       "  0.86096907099552444,\n",
       "  0.86084732669445319,\n",
       "  0.86072558438165481,\n",
       "  0.86437788512081537,\n",
       "  0.86608229249186086,\n",
       "  0.8680301855624607,\n",
       "  0.86803018603413129],\n",
       " 'loss': [0.48470584790049781,\n",
       "  0.46334776823280327,\n",
       "  0.45649455038189801,\n",
       "  0.43323900027956613,\n",
       "  0.42602833243241589,\n",
       "  0.4174631992302833,\n",
       "  0.40979491178574923,\n",
       "  0.39902990196913385,\n",
       "  0.40099424759929697,\n",
       "  0.40132893995992569,\n",
       "  0.38237782341246918,\n",
       "  0.38686889451562212,\n",
       "  0.3684052821790284,\n",
       "  0.36252298267770922,\n",
       "  0.36148330861158778,\n",
       "  0.35221227167012309,\n",
       "  0.3540475330493994,\n",
       "  0.34959264161051162,\n",
       "  0.33634137494853733,\n",
       "  0.33282397043695555,\n",
       "  0.33414584857785617,\n",
       "  0.32639035809851341,\n",
       "  0.326124882378593,\n",
       "  0.31416575519206141,\n",
       "  0.31651680783527608,\n",
       "  0.31359254693218341,\n",
       "  0.31125171791280465,\n",
       "  0.31720517979132518,\n",
       "  0.3043348621535073,\n",
       "  0.29715947421391897],\n",
       " 'val_acc': [0.75027382145314458,\n",
       "  0.73822562711523498,\n",
       "  0.71741511650701739,\n",
       "  0.74479737378420208,\n",
       "  0.72508214879270971,\n",
       "  0.75136911261904282,\n",
       "  0.74808324238556756,\n",
       "  0.72070098576122676,\n",
       "  0.73603505065903341,\n",
       "  0.74917853257220002,\n",
       "  0.72836801902618487,\n",
       "  0.72617743995860795,\n",
       "  0.7327491784670267,\n",
       "  0.74151150191861726,\n",
       "  0.73384446898008093,\n",
       "  0.73274917879344859,\n",
       "  0.74041621271125069,\n",
       "  0.73822562907376665,\n",
       "  0.73165388632186268,\n",
       "  0.70646221561995937,\n",
       "  0.74151150126577337,\n",
       "  0.69769989216836881,\n",
       "  0.72179627692712489,\n",
       "  0.72398685566828003,\n",
       "  0.74151150289788303,\n",
       "  0.72836801706765331,\n",
       "  0.73384446898008093,\n",
       "  0.73932092219819634,\n",
       "  0.71851040375585229,\n",
       "  0.69550931114226022],\n",
       " 'val_loss': [0.60559055855475274,\n",
       "  0.57735835859574469,\n",
       "  0.59538973579009813,\n",
       "  0.68035969464567381,\n",
       "  0.64204931004546162,\n",
       "  0.63340003515908905,\n",
       "  0.62230816434534331,\n",
       "  0.61415212931925467,\n",
       "  0.64363870648146981,\n",
       "  0.65840529847118967,\n",
       "  0.63915801880654732,\n",
       "  0.66285869133172137,\n",
       "  0.69185972856796318,\n",
       "  0.70601770768160366,\n",
       "  0.65935895835974656,\n",
       "  0.85287313892833505,\n",
       "  0.81824671549708272,\n",
       "  0.79500296561767603,\n",
       "  0.75387430936914157,\n",
       "  0.74143286899695127,\n",
       "  0.74122039897026659,\n",
       "  0.81163841587167973,\n",
       "  0.86624439343042992,\n",
       "  0.85575940452622168,\n",
       "  0.83651832356510392,\n",
       "  0.91347834786149262,\n",
       "  0.90043424120476834,\n",
       "  0.93309716503304174,\n",
       "  0.87422637845443607,\n",
       "  1.0965608658364934]}"
      ]
     },
     "execution_count": 56,
     "metadata": {},
     "output_type": "execute_result"
    }
   ],
   "source": []
  },
  {
   "cell_type": "code",
   "execution_count": 66,
   "metadata": {
    "collapsed": false
   },
   "outputs": [
    {
     "data": {
      "image/png": "[encoded data removed]",
      "text/plain": [
       "<matplotlib.figure.Figure at 0x12836d0d0>"
      ]
     },
     "metadata": {},
     "output_type": "display_data"
    }
   ],
   "source": [
    "%matplotlib inline\n",
    "\n",
    "plt.plot(np.arange(30),hist.history['loss'])\n",
    "plt.plot(np.arange(30),hist.history['val_loss'])\n",
    "\n",
    "plt.title('Loss of Discriminator')\n",
    "plt.xlabel('Epochs')\n",
    "plt.ylabel('Cross-Entropy Loss')\n",
    "plt.legend(['Training Accuracy','Validation Accuracy'],loc=0)\n",
    "plt.show()"
   ]
  },
  {
   "cell_type": "code",
   "execution_count": null,
   "metadata": {
    "collapsed": true
   },
   "outputs": [],
   "source": []
  }
 ],
 "metadata": {
  "kernelspec": {
   "display_name": "Python 2",
   "language": "python",
   "name": "python2"
  },
  "language_info": {
   "codemirror_mode": {
    "name": "ipython",
    "version": 2
   },
   "file_extension": ".py",
   "mimetype": "text/x-python",
   "name": "python",
   "nbconvert_exporter": "python",
   "pygments_lexer": "ipython2",
   "version": "2.7.14"
  }
 },
 "nbformat": 4,
 "nbformat_minor": 0
}
